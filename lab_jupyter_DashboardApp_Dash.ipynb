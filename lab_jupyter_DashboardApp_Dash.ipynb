{
 "cells": [
  {
   "cell_type": "markdown",
   "id": "7594b6bb",
   "metadata": {},
   "source": [
    "# Build a Dashboard Application with Plotly Dash"
   ]
  },
  {
   "cell_type": "markdown",
   "id": "e5e22f03",
   "metadata": {},
   "source": [
    "Run this code and follow the link to see the dashboard application."
   ]
  },
  {
   "cell_type": "markdown",
   "id": "4cd12dfb",
   "metadata": {},
   "source": [
    "This code was completed by Gemma Lluch (September, 2022)"
   ]
  },
  {
   "cell_type": "code",
   "execution_count": 1,
   "id": "85c0dbe7",
   "metadata": {},
   "outputs": [],
   "source": [
    "# Import required libraries\n",
    "import pandas as pd\n",
    "import dash\n",
    "from dash import html, dcc\n",
    "from dash.dependencies import Input, Output\n",
    "import plotly.express as px\n",
    "\n",
    "# Read the airline data into pandas dataframe\n",
    "spacex_df = pd.read_csv(\"spacex_launch_dash.csv\")\n",
    "max_payload = spacex_df['Payload Mass (kg)'].max()\n",
    "min_payload = spacex_df['Payload Mass (kg)'].min()"
   ]
  },
  {
   "cell_type": "code",
   "execution_count": 2,
   "id": "d2415cb6",
   "metadata": {
    "scrolled": true
   },
   "outputs": [
    {
     "name": "stdout",
     "output_type": "stream",
     "text": [
      "Dash is running on http://127.0.0.1:8050/\n",
      "\n",
      " * Serving Flask app \"__main__\" (lazy loading)\n",
      " * Environment: production\n",
      "\u001b[31m   WARNING: This is a development server. Do not use it in a production deployment.\u001b[0m\n",
      "\u001b[2m   Use a production WSGI server instead.\u001b[0m\n",
      " * Debug mode: off\n"
     ]
    },
    {
     "name": "stderr",
     "output_type": "stream",
     "text": [
      " * Running on http://127.0.0.1:8050/ (Press CTRL+C to quit)\n",
      "127.0.0.1 - - [22/Sep/2022 12:31:48] \"GET / HTTP/1.1\" 200 -\n",
      "127.0.0.1 - - [22/Sep/2022 12:31:49] \"GET /_dash-layout HTTP/1.1\" 200 -\n",
      "127.0.0.1 - - [22/Sep/2022 12:31:49] \"GET /_dash-dependencies HTTP/1.1\" 200 -\n",
      "127.0.0.1 - - [22/Sep/2022 12:31:49] \"GET /_dash-component-suites/dash/dcc/async-graph.js HTTP/1.1\" 200 -\n",
      "127.0.0.1 - - [22/Sep/2022 12:31:49] \"GET /_dash-component-suites/dash/dcc/async-dropdown.js HTTP/1.1\" 200 -\n",
      "127.0.0.1 - - [22/Sep/2022 12:31:49] \"GET /_dash-component-suites/dash/dcc/async-slider.js HTTP/1.1\" 200 -\n",
      "127.0.0.1 - - [22/Sep/2022 12:31:49] \"GET /_dash-component-suites/dash/dcc/async-plotlyjs.js HTTP/1.1\" 200 -\n",
      "127.0.0.1 - - [22/Sep/2022 12:31:50] \"POST /_dash-update-component HTTP/1.1\" 200 -\n",
      "127.0.0.1 - - [22/Sep/2022 12:31:50] \"POST /_dash-update-component HTTP/1.1\" 200 -\n"
     ]
    }
   ],
   "source": [
    "# Create a dash application\n",
    "app = dash.Dash(__name__)\n",
    "\n",
    "# Create an app layout\n",
    "app.layout = html.Div(children=[html.H1('SpaceX Launch Records Dashboard',\n",
    "                                        style={'textAlign': 'center', 'color': '#503D36',\n",
    "                                               'font-size': 40}),\n",
    "                                # TASK 1: Add a dropdown list to enable Launch Site selection\n",
    "                                # The default select value is for ALL sites\n",
    "                                dcc.Dropdown(id='site-dropdown', \n",
    "                                             options=[{'label': 'All Sites', 'value': 'ALL'},\n",
    "                                                      {'label': 'CCAFS LC-40', 'value': 'CCAFS LC-40'},\n",
    "                                                      {'label': 'CCAFS SLC-40', 'value': 'CCAFS SLC-40'},\n",
    "                                                      {'label': 'KSC LC-39A', 'value': 'KSC LC-39A'},\n",
    "                                                      {'label': 'VAFB SLC-4E', 'value': 'VAFB SLC-4E'}\n",
    "                                                     ],\n",
    "                                             value='ALL',\n",
    "                                             placeholder='Selecct a Launch Site here',\n",
    "                                             searchable=True\n",
    "                                            ),\n",
    "                                html.Br(),\n",
    "\n",
    "                                # TASK 2: Add a pie chart to show the total successful launches count \n",
    "                                # for all sites. If a specific launch site was selected, \n",
    "                                # show the Success vs. Failed counts for the site\n",
    "                                html.Div(dcc.Graph(id='success-pie-chart')),\n",
    "                                html.Br(),\n",
    "\n",
    "                                html.P(\"Payload range (Kg):\"),\n",
    "                                # TASK 3: Add a slider to select payload range\n",
    "                                dcc.RangeSlider(\n",
    "                                                min=0, max=10000, step=1000,\n",
    "                                                marks={0: '0',\n",
    "                                                       1000: '1000',\n",
    "                                                       2000: '2000',\n",
    "                                                       3000: '3000',\n",
    "                                                       4000: '4000',\n",
    "                                                       5000: '5000',\n",
    "                                                       6000: '6000',\n",
    "                                                       7000: '7000',\n",
    "                                                       8000: '8000',\n",
    "                                                       9000: '9000',\n",
    "                                                       10000: '10000',\n",
    "                                                      },\n",
    "                                                value=[min_payload, max_payload],\n",
    "                                                id='payload-slider'\n",
    "                                ),\n",
    "\n",
    "                                # TASK 4: Add a scatter chart to show the correlation between \n",
    "                                # payload and launch success\n",
    "                                html.Div(dcc.Graph(id='success-payload-scatter-chart')),\n",
    "                                ])\n",
    "\n",
    "# TASK 2:\n",
    "# Add a callback function for `site-dropdown` as input, `success-pie-chart` as output\n",
    "# Function decorator to specify function input and output\n",
    "@app.callback(Output(component_id='success-pie-chart', component_property='figure'),\n",
    "              Input(component_id='site-dropdown', component_property='value'))\n",
    "def get_pie_chart(entered_site):\n",
    "    if entered_site == 'ALL':\n",
    "        fig1 = px.pie(spacex_df, \n",
    "                     values='class',\n",
    "                     names='Launch Site', \n",
    "                     title='Total Success Launches By Site')\n",
    "        return fig1\n",
    "    else:\n",
    "        # return the outcomes piechart for a selected site\n",
    "        filtered_df = spacex_df[spacex_df['Launch Site']==entered_site]\n",
    "        filtered_df_class = filtered_df.groupby(['Launch Site','class']).size().reset_index(name='class count')\n",
    "        fig2 = px.pie(filtered_df_class, \n",
    "                     values='class count',\n",
    "                     names='class', \n",
    "                     title='Total Success Launches for Site '+entered_site)\n",
    "        return fig2\n",
    "\n",
    "# TASK 4:\n",
    "# Add a callback function for `site-dropdown` and `payload-slider` as inputs, \n",
    "# `success-payload-scatter-chart` as output\n",
    "@app.callback(Output(component_id='success-payload-scatter-chart', component_property='figure'),\n",
    "              [Input(component_id='site-dropdown', component_property='value'),\n",
    "               Input(component_id=\"payload-slider\", component_property=\"value\")])\n",
    "def get_scatter_chart(entered_site, selected_range):\n",
    "    if entered_site == 'ALL':\n",
    "        filtered_df1 = spacex_df[spacex_df['Payload Mass (kg)']>=selected_range[0]]\n",
    "        filtered_df1 = filtered_df1[filtered_df1['Payload Mass (kg)']<=selected_range[1]]\n",
    "        fig1 = px.scatter(filtered_df1, \n",
    "                     y='class',\n",
    "                     x='Payload Mass (kg)', \n",
    "                     color='Booster Version Category')\n",
    "        return fig1\n",
    "    else:\n",
    "        # return the outcomes piechart for a selected site\n",
    "        filtered_df2 = spacex_df[spacex_df['Launch Site']==entered_site]\n",
    "        filtered_df2 = filtered_df2[filtered_df2['Payload Mass (kg)']>=selected_range[0]]\n",
    "        filtered_df2 = filtered_df2[filtered_df2['Payload Mass (kg)']<=selected_range[1]]\n",
    "        #filtered_df_class = filtered_df.groupby(['Launch Site','class']).size().reset_index(name='class count')\n",
    "        fig2 = px.scatter(filtered_df2, \n",
    "                     y='class',\n",
    "                     x='Payload Mass (kg)', \n",
    "                     color='Booster Version Category')\n",
    "        return fig2\n",
    "    \n",
    "# Run the app\n",
    "if __name__ == '__main__':\n",
    "    app.run_server()"
   ]
  },
  {
   "cell_type": "code",
   "execution_count": null,
   "id": "1aaacdc6",
   "metadata": {},
   "outputs": [],
   "source": []
  }
 ],
 "metadata": {
  "kernelspec": {
   "display_name": "Python 3 (ipykernel)",
   "language": "python",
   "name": "python3"
  },
  "language_info": {
   "codemirror_mode": {
    "name": "ipython",
    "version": 3
   },
   "file_extension": ".py",
   "mimetype": "text/x-python",
   "name": "python",
   "nbconvert_exporter": "python",
   "pygments_lexer": "ipython3",
   "version": "3.8.12"
  }
 },
 "nbformat": 4,
 "nbformat_minor": 5
}
